{
 "cells": [
  {
   "cell_type": "code",
   "execution_count": 39,
   "id": "b4d427b8",
   "metadata": {
    "extensions": {
     "jupyter_dashboards": {
      "version": 1,
      "views": {
       "default_view": {
        "col": 0,
        "height": 5,
        "row": 0,
        "width": 12
       }
      }
     }
    }
   },
   "outputs": [
    {
     "data": {
      "application/vnd.jupyter.widget-view+json": {
       "model_id": "be6c6bcc9b9647c6bf652e9c5c9e94ab",
       "version_major": 2,
       "version_minor": 0
      },
      "text/plain": [
       "ExampleWidget()"
      ]
     },
     "metadata": {},
     "output_type": "display_data"
    }
   ],
   "source": [
    "import ipywidgets as widgets\n",
    "import anywidget\n",
    "import traitlets\n",
    "\n",
    "class ExampleWidget(anywidget.AnyWidget):\n",
    "    _esm = \"\"\"\n",
    "    export function render({ model, el }) {        \n",
    "        el.classList.add(\"custom-widget\");\n",
    "        let input = document.createElement('input');\n",
    "        input.value = 'test';\n",
    "        input.classList.add(\"search\");\n",
    "        input.addEventListener(\"keypress\", function(event){ if (event.key === \"Enter\") {addValue(input.value);} });\n",
    "        let list = document.createElement('div');\n",
    "\n",
    "        function addValue(value){\n",
    "            if(value == \"\"){\n",
    "                return;\n",
    "            }\n",
    "            for(let index = 0; index < list.children.length; index++){\n",
    "                if(list.children.item(index).innerHTML == value + '  <span class=\"close\">x</span>'){\n",
    "                    return;\n",
    "                }\n",
    "            }\n",
    "            let tempText = document.createElement('div');\n",
    "            tempText.innerHTML = value;\n",
    "            tempText.classList.add(\"searchedValue\");\n",
    "            tempText.innerHTML = tempText.innerHTML + '&ensp; <span class=\"close\">x</span>';\n",
    "            list.appendChild(tempText);\n",
    "            var closebtns = document.getElementsByClassName(\"close\");\n",
    "\n",
    "            for (let i = 0; i < closebtns.length; i++) {\n",
    "              closebtns[i].addEventListener(\"click\", function() {\n",
    "                this.parentElement.remove();\n",
    "              });\n",
    "            }\n",
    "        }\n",
    "        \n",
    "        let widget = document.createElement('div');\n",
    "        widget.appendChild(input);\n",
    "        widget.appendChild(list);\n",
    "        el.appendChild(widget);\n",
    "    }\n",
    "    \"\"\"\n",
    "    _css = \"\"\"\n",
    "    .custom-widget {\n",
    "        background-color: rgba(0,0,0,0.0);\n",
    "        padding: 0px 2px;\n",
    "    }\n",
    "    .border{\n",
    "        border: 2px solid;\n",
    "        border-radius: 25px;\n",
    "    }\n",
    "    .search{\n",
    "        width: 100%;\n",
    "        outline: 0;\n",
    "        border: 0;\n",
    "        border-bottom: 3px solid black;\n",
    "    }\n",
    "    .searchedValue {\n",
    "        background-color: lightgreen;\n",
    "        padding: 2px 10px;\n",
    "        margin: 5px 5px;\n",
    "        border-radius: 25px;\n",
    "        width: fit-content;\n",
    "        display: inline-block;\n",
    "    }\n",
    "    .close {\n",
    "      cursor: pointer;\n",
    "    }\n",
    "    \"\"\"\n",
    "    value = traitlets.Unicode(\"bob\").tag(sync=True)\n",
    "\n",
    "exampleWidget = ExampleWidget()\n",
    "\n",
    "\n",
    "display(exampleWidget)"
   ]
  },
  {
   "cell_type": "code",
   "execution_count": null,
   "id": "36360421",
   "metadata": {},
   "outputs": [],
   "source": []
  }
 ],
 "metadata": {
  "extensions": {
   "jupyter_dashboards": {
    "activeView": "default_view",
    "version": 1,
    "views": {
     "default_view": {
      "cellMargin": 10,
      "defaultCellHeight": 40,
      "maxColumns": 12,
      "name": "active_view",
      "type": "grid"
     }
    }
   }
  },
  "kernelspec": {
   "display_name": "Python 3 (ipykernel)",
   "language": "python",
   "name": "python3"
  },
  "language_info": {
   "codemirror_mode": {
    "name": "ipython",
    "version": 3
   },
   "file_extension": ".py",
   "mimetype": "text/x-python",
   "name": "python",
   "nbconvert_exporter": "python",
   "pygments_lexer": "ipython3",
   "version": "3.10.8"
  },
  "vscode": {
   "interpreter": {
    "hash": "febd583ac7b24d555ff247035c3398f71bc7f0487f137885cebf3efc1d3cb684"
   }
  }
 },
 "nbformat": 4,
 "nbformat_minor": 5
}
