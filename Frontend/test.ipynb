{
 "cells": [
  {
   "cell_type": "code",
   "execution_count": 22,
   "id": "b4d427b8",
   "metadata": {
    "extensions": {
     "jupyter_dashboards": {
      "version": 1,
      "views": {
       "default_view": {
        "col": 0,
        "height": 5,
        "row": 0,
        "width": 12
       }
      }
     }
    }
   },
   "outputs": [
    {
     "data": {
      "application/vnd.jupyter.widget-view+json": {
       "model_id": "0811a1ff49ba4bc6abde7198f3131594",
       "version_major": 2,
       "version_minor": 0
      },
      "text/plain": [
       "Output()"
      ]
     },
     "execution_count": 22,
     "metadata": {},
     "output_type": "execute_result"
    }
   ],
   "source": [
    "import ipywidgets as widgets\n",
    "import anywidget\n",
    "import traitlets\n",
    "import jupyter\n",
    "from tweet_browser_test import tweet_browser as tb\n",
    "import voila\n",
    "from matplotlib import pyplot as plt\n",
    "from IPython.display import display\n",
    "import pandas as pd\n",
    "import io\n",
    "\n",
    "TWEETS_PER_PAGE = 20\n",
    "\n",
    "out = widgets.Output()\n",
    "\n",
    "def startSession(file):\n",
    "    if file['type'] == 'xls':\n",
    "        df = pd.read_excel(io.BytesIO(file.content))\n",
    "    else:\n",
    "        df = pd.read_csv(io.BytesIO(file.content))\n",
    "    db = tb.DataBaseSim(df)\n",
    "    s = tb.Session(db)\n",
    "    browser = Browser(s, out)\n",
    "    \n",
    "\n",
    "def selectColumns (row, colHeaders: list):\n",
    "    result = []\n",
    "    for j in colHeaders:\n",
    "        result.append(row[s.headerDict[j]])\n",
    "    return result\n",
    "\n",
    "class SearchBar(anywidget.AnyWidget):\n",
    "    _esm = \"anywidget/searchBar.js\"\n",
    "    _css = \"anywidget/searchBar.css\"\n",
    "    value = traitlets.List([]).tag(sync=True)\n",
    "    totalItems = traitlets.Int(0).tag(sync=True)\n",
    "    \n",
    "class TweetDisplay(anywidget.AnyWidget):\n",
    "    _esm = \"anywidget/tweetDisplay.js\"\n",
    "    _css = \"anywidget/tweetDisplay.css\"\n",
    "    value = traitlets.List().tag(sync=True)\n",
    "    \n",
    "class DatasetDisplay(anywidget.AnyWidget):\n",
    "    _esm = \"anywidget/datasetDisplayPart.js\"\n",
    "    _css = \"anywidget/datasetDisplay.css\"\n",
    "    size = traitlets.Int().tag(sync=True)\n",
    "    fileName = traitlets.Unicode().tag(sync=True)\n",
    "    \n",
    "class PageSelect(anywidget.AnyWidget):\n",
    "    _esm = \"anywidget/pageSelect.js\"\n",
    "    _css = \"anywidget/pageSelect.css\"\n",
    "    tweetsPerPage = traitlets.Int(TWEETS_PER_PAGE).tag(sync=True)\n",
    "    value = traitlets.CInt(1).tag(sync=True)\n",
    "    totalTweets = traitlets.Int().tag(sync=True)\n",
    "    changeSignal = traitlets.Int(0).tag(sync=True)\n",
    "    \n",
    "# File upload\n",
    "fileUp = widgets.widgets.FileUpload(\n",
    "    accept='.csv, .txt, .xls, .tsv',  # Accepted file extension e.g. '.txt', '.pdf', 'image/*', 'image/*,.pdf'\n",
    "    multiple=False,  # True to accept multiple files upload else False\n",
    "    description='Change Dataset'\n",
    ")\n",
    "fileUp.add_class(\"change-input\")\n",
    "datasetDisplayCustom = DatasetDisplay()\n",
    "datasetDisplayCustom.add_class(\"text-block\")\n",
    "fileUpBar = widgets.Box([datasetDisplayCustom, fileUp])\n",
    "fileUpBar.add_class(\"dataset-display\")\n",
    "\n",
    "class Browser:\n",
    "    def __init__(self, s, out):\n",
    "        self.s = s\n",
    "        self.out = out\n",
    "        self.operators = [None] * 5\n",
    "        self.colHeaders = list(s.headerDict.keys())\n",
    "        self.createWidgets()\n",
    "        self.resetDisplay()\n",
    "        \n",
    "    def resetDisplay(self, b = None):\n",
    "        self.out.clear_output(True)\n",
    "        with out:\n",
    "            display(self.searchBar)\n",
    "            display(self.datasetDisplay)\n",
    "            display(self.pageSelect)\n",
    "            display(self.searchButton)\n",
    "            display(self.tweetDisplay)\n",
    "            \n",
    "    def searchKeyword(self, b):\n",
    "        if(self.searchBar.totalItems == 0):\n",
    "            return\n",
    "        if(self.s.currentSet.size < self.s.length):\n",
    "            self.s.back()\n",
    "        with out:\n",
    "            print(self.searchBar.value)\n",
    "        self.s.searchKeyword(self.searchBar.value, False)\n",
    "        self.getTweets(b)\n",
    "    \n",
    "    \n",
    "    def getTweets(self, b, pageSize = TWEETS_PER_PAGE):\n",
    "        #self.resetDisplay()\n",
    "        dataSet = self.s.getCurrentSubset()\n",
    "        tempArr = []\n",
    "        \n",
    "        pageNum = self.pageSelect.value\n",
    "        \n",
    "        self.pageSelect.totalTweets = len(dataSet)\n",
    "        self.pageSelect.changeSignal += 1\n",
    "        \n",
    "        for i in range((pageNum-1) * pageSize, min(len(dataSet), pageNum * pageSize)):\n",
    "            tempArr.append(self.s.getCurrentSubset().iloc[i].to_json())\n",
    "        \n",
    "        self.tweetDisplay.value = tempArr\n",
    "\n",
    "        \n",
    "    def createWidgets(self):\n",
    "        self.searchBar = SearchBar() \n",
    "        self.searchButton = widgets.Button(description='Search')\n",
    "        self.searchButton.on_click(self.searchKeyword)\n",
    "        self.tweetDisplay = TweetDisplay()\n",
    "        self.datasetDisplay = fileUpBar\n",
    "        self.pageSelect = PageSelect()\n",
    "        self.pageSelect.observe(self.changePage, names=[\"value\"])\n",
    "    \n",
    "    def changePage(self, change):\n",
    "        self.getTweets(None)\n",
    "        \n",
    "    \n",
    "def fileHandler(change):\n",
    "    startSession(fileUp.value[0])\n",
    "\n",
    "        \n",
    "with out:\n",
    "    display(fileUpBar)\n",
    "    #display(DatasetDisplay())\n",
    "\n",
    "\n",
    "fileUp.observe(fileHandler, names=[\"value\"])\n",
    "\n",
    "out"
   ]
  }
 ],
 "metadata": {
  "extensions": {
   "jupyter_dashboards": {
    "activeView": "default_view",
    "version": 1,
    "views": {
     "default_view": {
      "cellMargin": 10,
      "defaultCellHeight": 40,
      "maxColumns": 12,
      "name": "active_view",
      "type": "grid"
     }
    }
   }
  },
  "kernelspec": {
   "display_name": "Python 3 (ipykernel)",
   "language": "python",
   "name": "python3"
  },
  "language_info": {
   "codemirror_mode": {
    "name": "ipython",
    "version": 3
   },
   "file_extension": ".py",
   "mimetype": "text/x-python",
   "name": "python",
   "nbconvert_exporter": "python",
   "pygments_lexer": "ipython3",
   "version": "3.10.12"
  },
  "vscode": {
   "interpreter": {
    "hash": "febd583ac7b24d555ff247035c3398f71bc7f0487f137885cebf3efc1d3cb684"
   }
  }
 },
 "nbformat": 4,
 "nbformat_minor": 5
}
