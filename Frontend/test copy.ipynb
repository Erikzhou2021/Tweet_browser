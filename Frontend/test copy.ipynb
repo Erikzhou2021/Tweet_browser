{
 "cells": [
  {
   "cell_type": "code",
   "execution_count": 5,
   "id": "b4d427b8",
   "metadata": {
    "extensions": {
     "jupyter_dashboards": {
      "version": 1,
      "views": {
       "default_view": {
        "col": 0,
        "height": 5,
        "row": 0,
        "width": 12
       }
      }
     }
    }
   },
   "outputs": [
    {
     "data": {
      "application/vnd.jupyter.widget-view+json": {
       "model_id": "5dfab15e061a4089ae79238632121df2",
       "version_major": 2,
       "version_minor": 0
      },
      "text/plain": [
       "Output()"
      ]
     },
     "execution_count": 5,
     "metadata": {},
     "output_type": "execute_result"
    }
   ],
   "source": [
    "import ipywidgets as widgets\n",
    "import anywidget\n",
    "import traitlets\n",
    "import jupyter\n",
    "from tweet_browser_test import tweet_browser as tb\n",
    "import voila\n",
    "from matplotlib import pyplot as plt\n",
    "from IPython.display import display\n",
    "import pandas as pd\n",
    "import io\n",
    "\n",
    "\n",
    "out = widgets.Output()\n",
    "\n",
    "def startSession(file):\n",
    "    if file['type'] == 'xls':\n",
    "        df = pd.read_excel(io.BytesIO(file.content))\n",
    "    else:\n",
    "        df = pd.read_csv(io.BytesIO(file.content))\n",
    "    db = tb.DataBaseSim(df)\n",
    "    s = tb.Session(db)\n",
    "    browser = Browser(s, out)\n",
    "    \n",
    "\n",
    "def selectColumns (row, colHeaders: list):\n",
    "    result = []\n",
    "    for j in colHeaders:\n",
    "        result.append(row[s.headerDict[j]])\n",
    "    return result\n",
    "\n",
    "class SearchBar(anywidget.AnyWidget):\n",
    "    _esm = \"searchBar.js\"\n",
    "    _css = \"searchBar.css\"\n",
    "    value = traitlets.List().tag(sync=True)\n",
    "    \n",
    "\n",
    "class Browser:\n",
    "    def __init__(self, s, out):\n",
    "        self.s = s\n",
    "        self.out = out\n",
    "        self.operators = [None] * 5\n",
    "        self.colHeaders = list(s.headerDict.keys())\n",
    "        self.createWidgets()\n",
    "        self.resetDisplay()\n",
    "        \n",
    "    def resetDisplay(self, b = None):\n",
    "        self.out.clear_output(True)\n",
    "        with out:\n",
    "            display(self.searchBar)\n",
    "            display(self.searchButton)\n",
    "            \n",
    "    def searchKeyword(self, b):\n",
    "        if(self.searchBar.value == \"\"):\n",
    "            return\n",
    "        self.s.searchKeyword(self.searchBar.value, True)\n",
    "        self.getTweets(b)\n",
    "\n",
    "    \n",
    "    def getTweets(self, b):\n",
    "        #self.resetDisplay()\n",
    "        htmlText = \"<style>table, th, td {border: 1px solid black;} th, td {padding: 10px;}</style>\"\n",
    "        htmlText += \"<table> <tr> \"\n",
    "        for header in self.colHeaders:\n",
    "        #for header in self.columns.value:\n",
    "            htmlText += \" <th> \" + header + \" </th> \"\n",
    "        dataSet = self.s.getCurrentSubset()\n",
    "        for i in range(len(dataSet)):\n",
    "            htmlText += \" <tr> \"\n",
    "            for j in self.colHeaders:\n",
    "            #for j in self.columns.value:\n",
    "                #print(type(dataSet.iloc[i].loc[j]))\n",
    "                htmlText += \" <td>\" + str(dataSet.iloc[i].loc[j]) + \"</td> \"\n",
    "            htmlText += \" </tr> \"\n",
    "        table = widgets.HTML(value=htmlText + \" </table>\")\n",
    "        with out:\n",
    "            print(\"Tweets displayed:\", self.s.currentSet.size)\n",
    "            display(table)\n",
    "        \n",
    "    def createWidgets(self):\n",
    "        self.searchBar = SearchBar() \n",
    "        self.searchButton = widgets.Button(description='Search')\n",
    "        self.searchButton.on_click(self.searchKeyword)\n",
    "        \n",
    "\n",
    "# File upload\n",
    "fileUp = widgets.widgets.FileUpload(\n",
    "    accept='.csv, .txt, .xls, .tsv',  # Accepted file extension e.g. '.txt', '.pdf', 'image/*', 'image/*,.pdf'\n",
    "    multiple=False  # True to accept multiple files upload else False\n",
    ")\n",
    "    \n",
    "def fileHandler(change):\n",
    "    #print(change)\n",
    "    #print(fileUp.value[0])\n",
    "    #print(fileUp.value[0]['type'])\n",
    "    startSession(fileUp.value[0])\n",
    "        \n",
    "with out:\n",
    "    display(fileUp)\n",
    "    #display(SearchBar())\n",
    "\n",
    "fileUp.observe(fileHandler, names=\"value\")\n",
    "out\n",
    "        \n"
   ]
  }
 ],
 "metadata": {
  "extensions": {
   "jupyter_dashboards": {
    "activeView": "default_view",
    "version": 1,
    "views": {
     "default_view": {
      "cellMargin": 10,
      "defaultCellHeight": 40,
      "maxColumns": 12,
      "name": "active_view",
      "type": "grid"
     }
    }
   }
  },
  "kernelspec": {
   "display_name": "Python 3 (ipykernel)",
   "language": "python",
   "name": "python3"
  },
  "language_info": {
   "codemirror_mode": {
    "name": "ipython",
    "version": 3
   },
   "file_extension": ".py",
   "mimetype": "text/x-python",
   "name": "python",
   "nbconvert_exporter": "python",
   "pygments_lexer": "ipython3",
   "version": "3.10.8"
  },
  "vscode": {
   "interpreter": {
    "hash": "febd583ac7b24d555ff247035c3398f71bc7f0487f137885cebf3efc1d3cb684"
   }
  }
 },
 "nbformat": 4,
 "nbformat_minor": 5
}
