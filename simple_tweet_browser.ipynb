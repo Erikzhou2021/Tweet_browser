{
 "cells": [
  {
   "cell_type": "code",
   "execution_count": null,
   "id": "c7410dea",
   "metadata": {},
   "outputs": [],
   "source": []
  },
  {
   "cell_type": "code",
   "execution_count": 2,
   "id": "b4d427b8",
   "metadata": {},
   "outputs": [
    {
     "data": {
      "application/vnd.jupyter.widget-view+json": {
       "model_id": "6237d17ba4fe4f22adcf12dd977c37bd",
       "version_major": 2,
       "version_minor": 0
      },
      "text/plain": [
       "Output()"
      ]
     },
     "execution_count": 2,
     "metadata": {},
     "output_type": "execute_result"
    }
   ],
   "source": [
    "import jupyter\n",
    "from tweet_browser_test import tweet_browser as tb\n",
    "import ipywidgets as widgets\n",
    "import voila\n",
    "from matplotlib import pyplot as plt\n",
    "from ipysheet import sheet, cell, row, column, cell_range\n",
    "from IPython.display import display\n",
    "import pandas as pd\n",
    "import io\n",
    "\n",
    "\n",
    "###### Settings #########\n",
    "fileName = \"allCensus_sample.csv\"\n",
    "colHeaders = [\"SenderScreenName\", \"CreatedTime\", \"Message\"]   \n",
    "tweetsPerPage = 25 # Must be smaller than dataset size\n",
    "\n",
    "\n",
    "s = tb.createSession(fileName)\n",
    "out = widgets.Output()\n",
    "\n",
    "def resetDisplay(b = None):\n",
    "    global stack, sampleSelector\n",
    "    sampleSelector.max = s.currentSet.size\n",
    "    out.clear_output(True)\n",
    "    with out:\n",
    "        display(randomSampleButton) \n",
    "    \n",
    "def randomSample(b):\n",
    "    if(s.currentSet.size <= tweetsPerPage):\n",
    "        s.back()\n",
    "    s.simpleRandomSample(tweetsPerPage)\n",
    "    getTweets(b)\n",
    "    \n",
    "def searchKeyword(b):\n",
    "    if searchType.value == 'Contains Any':\n",
    "        s.searchKeyword(searchBox.value.split(' '), True)\n",
    "    elif searchType.value == 'Contains All':\n",
    "        s.searchKeyword(searchBox.value.split(' '))\n",
    "    elif searchType.value == 'Advanced':\n",
    "        s.advancedSearch(searchBox.value)\n",
    "    elif searchType.value == 'Regular Expression':\n",
    "        s.regexSearch(searchBox.value)\n",
    "    else:\n",
    "        return\n",
    "    getTweets(b)\n",
    "    \n",
    "    \n",
    "def getTweets(b):\n",
    "    resetDisplay()\n",
    "    htmlText = \"<style>table, th, td {border: 1px solid black;} th, td {padding: 10px;}</style>\"\n",
    "    htmlText += \"<table> <tr> \"\n",
    "    for header in colHeaders:\n",
    "        htmlText += \" <th> \" + header + \" </th> \"\n",
    "    dataSet = s.getCurrentSubset()\n",
    "    for i in range(len(dataSet)):\n",
    "        htmlText += \" <tr> \"\n",
    "        for j in colHeaders:\n",
    "            #print(type(dataSet.iloc[i].loc[j]))\n",
    "            htmlText += \" <td>\" + str(dataSet.iloc[i].loc[j]) + \"</td> \"\n",
    "        htmlText += \" </tr> \"\n",
    "    table = widgets.HTML(value=htmlText + \" </table>\")\n",
    "    with out:\n",
    "        #print(\"Tweets displayed:\", s.currentSet.size)\n",
    "        display(table)\n",
    "\n",
    "####### UI Widgets #######\n",
    "\n",
    "# Random Sample\n",
    "randomSampleButton = widgets.Button(description='Get Tweets', tooltip='Get Tweets')   \n",
    "sampleSelector = widgets.IntSlider(value=300, min=0, max=s.currentSet.size, step=1, \n",
    "                description='Sample size', continuous_update=False, orientation='horizontal', readout=True, \n",
    "                readout_format='d', tooltip= 'The number of tweets that will be selected in the sample')\n",
    "randomSampleBar = widgets.HBox([sampleSelector, randomSampleButton])\n",
    "randomSampleButton.on_click(randomSample)\n",
    "\n",
    "#Search Bar\n",
    "searchBox = widgets.Text(value='', placeholder='Keyword', description='Input:')\n",
    "searchButton = widgets.Button(description='Search', tooltip='Run search on current input')\n",
    "ContainsAnyToolTip = 'Returns tweets with any typed keyword (seperated by spaces)'\n",
    "ContainsAllToolTip = 'Returns tweets containing all typed space-separated keywords'\n",
    "AdvancedSearchToolTip = 'Search for tweets that match the inputted logical expression'\n",
    "RegularExpressionToolTip = 'Returns tweets that match regular expression'\n",
    "searchType = widgets.ToggleButtons(options=['Contains Any', 'Contains All', 'Advanced', 'Regular Expression'],\n",
    "    tooltips=[ContainsAnyToolTip, ContainsAllToolTip, AdvancedSearchToolTip, RegularExpressionToolTip])\n",
    "searchBar = widgets.VBox([widgets.HBox([searchBox, searchButton]), searchType])\n",
    "searchButton.on_click(searchKeyword)\n",
    "    \n",
    "with out:\n",
    "    display(randomSampleButton)\n",
    "    #display(stack)\n",
    "    #print(\"Select a file to analyze:\")\n",
    "    #display(fileUp)\n",
    "    \n",
    "out"
   ]
  },
  {
   "cell_type": "code",
   "execution_count": null,
   "id": "36407651",
   "metadata": {},
   "outputs": [],
   "source": []
  },
  {
   "cell_type": "code",
   "execution_count": null,
   "id": "c96048fe",
   "metadata": {},
   "outputs": [],
   "source": []
  },
  {
   "cell_type": "code",
   "execution_count": null,
   "id": "e7d7d7d6",
   "metadata": {},
   "outputs": [],
   "source": []
  },
  {
   "cell_type": "code",
   "execution_count": null,
   "id": "1125fc79",
   "metadata": {},
   "outputs": [],
   "source": []
  }
 ],
 "metadata": {
  "kernelspec": {
   "display_name": "Python 3 (ipykernel)",
   "language": "python",
   "name": "python3"
  },
  "language_info": {
   "codemirror_mode": {
    "name": "ipython",
    "version": 3
   },
   "file_extension": ".py",
   "mimetype": "text/x-python",
   "name": "python",
   "nbconvert_exporter": "python",
   "pygments_lexer": "ipython3",
   "version": "3.10.8"
  },
  "vscode": {
   "interpreter": {
    "hash": "febd583ac7b24d555ff247035c3398f71bc7f0487f137885cebf3efc1d3cb684"
   }
  }
 },
 "nbformat": 4,
 "nbformat_minor": 5
}
