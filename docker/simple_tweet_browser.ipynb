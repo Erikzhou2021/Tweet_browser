{
 "cells": [
  {
   "cell_type": "code",
   "execution_count": null,
   "id": "c7410dea",
   "metadata": {},
   "outputs": [],
   "source": []
  },
  {
   "cell_type": "code",
   "execution_count": 3,
   "id": "b4d427b8",
   "metadata": {},
   "outputs": [
    {
     "data": {
      "application/vnd.jupyter.widget-view+json": {
       "model_id": "718ed534eba34fb0aa2cb8b808501e9a",
       "version_major": 2,
       "version_minor": 0
      },
      "text/plain": [
       "Output()"
      ]
     },
     "execution_count": 3,
     "metadata": {},
     "output_type": "execute_result"
    }
   ],
   "source": [
    "import jupyter\n",
    "from tweet_browser_test import tweet_browser as tb\n",
    "import ipywidgets as widgets\n",
    "import voila\n",
    "from IPython.display import display\n",
    "import time\n",
    "import threading\n",
    "\n",
    "\n",
    "###### Settings #########\n",
    "fileName = \"allCensus_sample.csv\"\n",
    "colHeaders = [\"SenderScreenName\", \"CreatedTime\", \"Message\"]   \n",
    "tweetsPerPage = 25 # Must be smaller than dataset size\n",
    "timeRemaining = 1200 # Time left in seconds\n",
    "\n",
    "s = tb.createSession(fileName, False)\n",
    "out = widgets.Output()\n",
    "\n",
    "def resetDisplay(b = None):\n",
    "    global stack, sampleSelector\n",
    "    sampleSelector.max = s.currentSet.size\n",
    "    out.clear_output(True)\n",
    "    with out:\n",
    "        display(bar) \n",
    "    \n",
    "def randomSample(b):\n",
    "    if(s.currentSet.size <= tweetsPerPage):\n",
    "        s.back()\n",
    "    s.simpleRandomSample(tweetsPerPage)\n",
    "    getTweets(b)\n",
    "    \n",
    "def getTweets(b):\n",
    "    if timeRemaining <= 0:\n",
    "        return\n",
    "    resetDisplay()\n",
    "    htmlText = \"<style>table, th, td {border: 1px solid black;} th, td {padding: 10px;}</style>\"\n",
    "    htmlText += \"<table> <tr> \"\n",
    "    for header in colHeaders:\n",
    "        htmlText += \" <th> \" + header + \" </th> \"\n",
    "    dataSet = s.getCurrentSubset()\n",
    "    for i in range(len(dataSet)):\n",
    "        htmlText += \" <tr> \"\n",
    "        for j in colHeaders:\n",
    "            htmlText += \" <td>\" + str(dataSet.iloc[i].loc[j]) + \"</td> \"\n",
    "        htmlText += \" </tr> \"\n",
    "    table = widgets.HTML(value=htmlText + \" </table>\")\n",
    "    with out:\n",
    "        display(table)\n",
    "\n",
    "def timer(timerWidget):\n",
    "    global timeRemaining\n",
    "    while timeRemaining > 0:\n",
    "        timeRemaining -= 1\n",
    "        if timeRemaining == 0:\n",
    "            timerWidget.value = \"Time remaining: 00:00\"\n",
    "            return\n",
    "        minsLeft = timeRemaining // 60\n",
    "        secsLeft = timeRemaining % 60\n",
    "        if minsLeft < 10:\n",
    "            minsLeft = \"0\" + str(minsLeft)\n",
    "        if secsLeft < 10:\n",
    "            secsLeft = \"0\" + str(secsLeft)\n",
    "        timerWidget.value = \"Time remaining: \" + str(minsLeft) + \":\" + str(secsLeft)\n",
    "        time.sleep(1)\n",
    "\n",
    "####### UI Widgets #######\n",
    "\n",
    "# Random Sample\n",
    "randomSampleButton = widgets.Button(description='Get Tweets', tooltip='Get Tweets')   \n",
    "sampleSelector = widgets.IntSlider(value=300, min=0, max=s.currentSet.size, step=1, \n",
    "                description='Sample size', continuous_update=False, orientation='horizontal', readout=True, \n",
    "                readout_format='d', tooltip= 'The number of tweets that will be selected in the sample')\n",
    "randomSampleBar = widgets.HBox([sampleSelector, randomSampleButton])\n",
    "randomSampleButton.on_click(randomSample)\n",
    "\n",
    "# Timer\n",
    "timerWidget = widgets.HTML(value = \"Time remaining:\", )\n",
    "bar = widgets.VBox([timerWidget, randomSampleButton])\n",
    "\n",
    "thread = threading.Thread(target=timer, args=(timerWidget,))\n",
    "thread.start() \n",
    "    \n",
    "with out:\n",
    "    display(bar)\n",
    "    \n",
    "out"
   ]
  },
  {
   "cell_type": "code",
   "execution_count": null,
   "id": "36407651",
   "metadata": {},
   "outputs": [],
   "source": []
  },
  {
   "cell_type": "code",
   "execution_count": null,
   "id": "c96048fe",
   "metadata": {},
   "outputs": [],
   "source": []
  },
  {
   "cell_type": "code",
   "execution_count": null,
   "id": "e7d7d7d6",
   "metadata": {},
   "outputs": [],
   "source": []
  },
  {
   "cell_type": "code",
   "execution_count": null,
   "id": "1125fc79",
   "metadata": {},
   "outputs": [],
   "source": []
  }
 ],
 "metadata": {
  "kernelspec": {
   "display_name": "Python 3 (ipykernel)",
   "language": "python",
   "name": "python3"
  },
  "language_info": {
   "codemirror_mode": {
    "name": "ipython",
    "version": 3
   },
   "file_extension": ".py",
   "mimetype": "text/x-python",
   "name": "python",
   "nbconvert_exporter": "python",
   "pygments_lexer": "ipython3",
   "version": "3.10.8"
  },
  "vscode": {
   "interpreter": {
    "hash": "febd583ac7b24d555ff247035c3398f71bc7f0487f137885cebf3efc1d3cb684"
   }
  }
 },
 "nbformat": 4,
 "nbformat_minor": 5
}
