{
 "cells": [
  {
   "cell_type": "code",
   "execution_count": 5,
   "id": "b4d427b8",
   "metadata": {},
   "outputs": [
    {
     "data": {
      "application/vnd.jupyter.widget-view+json": {
       "model_id": "9f93a0c85b4a4c97a8471ceac4ac3256",
       "version_major": 2,
       "version_minor": 0
      },
      "text/plain": [
       "Output()"
      ]
     },
     "execution_count": 5,
     "metadata": {},
     "output_type": "execute_result"
    }
   ],
   "source": [
    "import jupyter\n",
    "from tweet_browser_test import tweet_browser as tb\n",
    "import ipywidgets as widgets\n",
    "import voila\n",
    "from IPython.display import display\n",
    "import time\n",
    "import threading\n",
    "\n",
    "###### Settings #########\n",
    "fileName = \"allCensus_sample.csv\"\n",
    "colHeaders = [\"SenderScreenName\", \"CreatedTime\", \"Message\"]   \n",
    "tweetsPerPage = 25 # Must be smaller than dataset size\n",
    "timeRemaining = 1200 # Time left in seconds\n",
    "\n",
    "s = tb.createSession(fileName, False)\n",
    "out = widgets.Output()\n",
    "\n",
    "def resetDisplay(b = None):\n",
    "    out.clear_output(True)\n",
    "    with out:\n",
    "        display(bar) \n",
    "    \n",
    "def randomSample(b):\n",
    "    if(s.currentSet.size < s.length):\n",
    "        s.back()\n",
    "    s.simpleRandomSample(tweetsPerPage)\n",
    "    getTweets(b)\n",
    "    \n",
    "def searchKeyword(b):\n",
    "    if(s.currentSet.size < s.length):\n",
    "        s.back()\n",
    "    if searchBox.value == \"\":\n",
    "        s.simpleRandomSample(tweetsPerPage)\n",
    "    else:\n",
    "        s.searchKeyword(searchBox.value.split(' '))\n",
    "    getTweets(b)\n",
    "    \n",
    "    \n",
    "def getTweets(b):\n",
    "    if timeRemaining <= 0:\n",
    "        return\n",
    "    resetDisplay()\n",
    "    htmlText = \"<style>table, th, td {border: 1px solid black;} th, td {padding: 10px;}</style>\"\n",
    "    htmlText += \"<table> <tr> \"\n",
    "    for header in colHeaders:\n",
    "        htmlText += \" <th> \" + header + \" </th> \"\n",
    "    dataSet = s.getCurrentSubset()\n",
    "    for i in range(min(len(dataSet), tweetsPerPage)):\n",
    "        htmlText += \" <tr> \"\n",
    "        for j in colHeaders:\n",
    "            htmlText += \" <td>\" + str(dataSet.iloc[i].loc[j]) + \"</td> \"\n",
    "        htmlText += \" </tr> \"\n",
    "    table = widgets.HTML(value=htmlText + \" </table>\")\n",
    "    with out:\n",
    "        display(table)\n",
    "        \n",
    "def timer(timerWidget):\n",
    "    global timeRemaining\n",
    "    while timeRemaining > 0:\n",
    "        timeRemaining -= 1\n",
    "        if timeRemaining == 0:\n",
    "            timerWidget.value = \"Time remaining: 00:00\"\n",
    "            return\n",
    "        minsLeft = timeRemaining // 60\n",
    "        secsLeft = timeRemaining % 60\n",
    "        if minsLeft < 10:\n",
    "            minsLeft = \"0\" + str(minsLeft)\n",
    "        if secsLeft < 10:\n",
    "            secsLeft = \"0\" + str(secsLeft)\n",
    "        timerWidget.value = \"Time remaining: \" + str(minsLeft) + \":\" + str(secsLeft)\n",
    "        time.sleep(1)\n",
    "\n",
    "#Search Bar\n",
    "searchBox = widgets.Text(value='', placeholder='Keyword', description='Search for:')\n",
    "searchButton = widgets.Button(description='Get Tweets', \n",
    "                tooltip='Search for tweets containing all words in the current input. If no input is provided, a random sample is given.')\n",
    "searchBar = widgets.HBox([searchBox, searchButton])\n",
    "searchButton.on_click(searchKeyword)   \n",
    "\n",
    "# Timer\n",
    "timerWidget = widgets.HTML(value = \"Time remaining:\", )\n",
    "bar = widgets.VBox([timerWidget, searchBar])\n",
    "\n",
    "searchButton.on_click(searchKeyword)\n",
    "thread = threading.Thread(target=timer, args=(timerWidget,))\n",
    "thread.start() \n",
    "\n",
    "with out:\n",
    "    display(bar)\n",
    "    \n",
    "out"
   ]
  }
 ],
 "metadata": {
  "kernelspec": {
   "display_name": "Python 3 (ipykernel)",
   "language": "python",
   "name": "python3"
  },
  "language_info": {
   "codemirror_mode": {
    "name": "ipython",
    "version": 3
   },
   "file_extension": ".py",
   "mimetype": "text/x-python",
   "name": "python",
   "nbconvert_exporter": "python",
   "pygments_lexer": "ipython3",
   "version": "3.10.8"
  },
  "vscode": {
   "interpreter": {
    "hash": "febd583ac7b24d555ff247035c3398f71bc7f0487f137885cebf3efc1d3cb684"
   }
  }
 },
 "nbformat": 4,
 "nbformat_minor": 5
}
